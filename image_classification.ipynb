{
 "cells": [
  {
   "cell_type": "markdown",
   "metadata": {
    "collapsed": true
   },
   "source": [
    "# Image Classification\n",
    "In this project, you'll classify images from the [CIFAR-10 dataset](https://www.cs.toronto.edu/~kriz/cifar.html).  The dataset consists of airplanes, dogs, cats, and other objects. You'll preprocess the images, then train a convolutional neural network on all the samples. The images need to be normalized and the labels need to be one-hot encoded.  You'll get to apply what you learned and build a convolutional, max pooling, dropout, and fully connected layers.  At the end, you'll get to see your neural network's predictions on the sample images.\n",
    "## Get the Data\n",
    "Run the following cell to download the [CIFAR-10 dataset for python](https://www.cs.toronto.edu/~kriz/cifar-10-python.tar.gz)."
   ]
  },
  {
   "cell_type": "code",
   "execution_count": 2,
   "metadata": {},
   "outputs": [
    {
     "name": "stderr",
     "output_type": "stream",
     "text": [
      "CIFAR-10 Dataset: 171MB [01:39, 1.72MB/s]                              \n"
     ]
    },
    {
     "name": "stdout",
     "output_type": "stream",
     "text": [
      "All files found!\n"
     ]
    }
   ],
   "source": [
    "\"\"\"\n",
    "DON'T MODIFY ANYTHING IN THIS CELL THAT IS BELOW THIS LINE\n",
    "\"\"\"\n",
    "from urllib.request import urlretrieve\n",
    "from os.path import isfile, isdir\n",
    "from tqdm import tqdm\n",
    "import problem_unittests as tests\n",
    "import tarfile\n",
    "\n",
    "cifar10_dataset_folder_path = 'cifar-10-batches-py'\n",
    "\n",
    "class DLProgress(tqdm):\n",
    "    last_block = 0\n",
    "\n",
    "    def hook(self, block_num=1, block_size=1, total_size=None):\n",
    "        self.total = total_size\n",
    "        self.update((block_num - self.last_block) * block_size)\n",
    "        self.last_block = block_num\n",
    "\n",
    "if not isfile('cifar-10-python.tar.gz'):\n",
    "    with DLProgress(unit='B', unit_scale=True, miniters=1, desc='CIFAR-10 Dataset') as pbar:\n",
    "        urlretrieve(\n",
    "            'https://www.cs.toronto.edu/~kriz/cifar-10-python.tar.gz',\n",
    "            'cifar-10-python.tar.gz',\n",
    "            pbar.hook)\n",
    "\n",
    "if not isdir(cifar10_dataset_folder_path):\n",
    "    with tarfile.open('cifar-10-python.tar.gz') as tar:\n",
    "        tar.extractall()\n",
    "        tar.close()\n",
    "\n",
    "\n",
    "tests.test_folder_path(cifar10_dataset_folder_path)"
   ]
  },
  {
   "cell_type": "markdown",
   "metadata": {},
   "source": [
    "## Explore the Data\n",
    "The dataset is broken into batches to prevent your machine from running out of memory.  The CIFAR-10 dataset consists of 5 batches, named `data_batch_1`, `data_batch_2`, etc.. Each batch contains the labels and images that are one of the following:\n",
    "* airplane\n",
    "* automobile\n",
    "* bird\n",
    "* cat\n",
    "* deer\n",
    "* dog\n",
    "* frog\n",
    "* horse\n",
    "* ship\n",
    "* truck\n",
    "\n",
    "Understanding a dataset is part of making predictions on the data.  Play around with the code cell below by changing the `batch_id` and `sample_id`. The `batch_id` is the id for a batch (1-5). The `sample_id` is the id for a image and label pair in the batch.\n",
    "\n",
    "Ask yourself \"What are all possible labels?\", \"What is the range of values for the image data?\", \"Are the labels in order or random?\".  Answers to questions like these will help you preprocess the data and end up with better predictions."
   ]
  },
  {
   "cell_type": "code",
   "execution_count": 6,
   "metadata": {},
   "outputs": [
    {
     "name": "stdout",
     "output_type": "stream",
     "text": [
      "\n",
      "Stats of batch 1:\n",
      "Samples: 10000\n",
      "Label Counts: {0: 1005, 1: 974, 2: 1032, 3: 1016, 4: 999, 5: 937, 6: 1030, 7: 1001, 8: 1025, 9: 981}\n",
      "First 20 Labels: [6, 9, 9, 4, 1, 1, 2, 7, 8, 3, 4, 7, 7, 2, 9, 9, 9, 3, 2, 6]\n",
      "\n",
      "Example of Image 16:\n",
      "Image - Min Value: 2 Max Value: 255\n",
      "Image - Shape: (32, 32, 3)\n",
      "Label - Label Id: 9 Name: truck\n"
     ]
    },
    {
     "data": {
      "image/png": "[encoded data removed]",
      "text/plain": [
       "<matplotlib.figure.Figure at 0x7f1a5e469c18>"
      ]
     },
     "metadata": {
      "image/png": {
       "height": 250,
       "width": 253
      }
     },
     "output_type": "display_data"
    }
   ],
   "source": [
    "%matplotlib inline\n",
    "%config InlineBackend.figure_format = 'retina'\n",
    "\n",
    "import helper\n",
    "import numpy as np\n",
    "\n",
    "# Explore the dataset\n",
    "batch_id = 1\n",
    "sample_id = 16\n",
    "helper.display_stats(cifar10_dataset_folder_path, batch_id, sample_id)"
   ]
  },
  {
   "cell_type": "markdown",
   "metadata": {},
   "source": [
    "## Implement Preprocess Functions\n",
    "### Normalize\n",
    "In the cell below, implement the `normalize` function to take in image data, `x`, and return it as a normalized Numpy array. The values should be in the range of 0 to 1, inclusive.  The return object should be the same shape as `x`."
   ]
  },
  {
   "cell_type": "code",
   "execution_count": 13,
   "metadata": {},
   "outputs": [
    {
     "name": "stdout",
     "output_type": "stream",
     "text": [
      "Tests Passed\n"
     ]
    }
   ],
   "source": [
    "def normalize(x):\n",
    "    \"\"\"\n",
    "    Normalize a list of sample image data in the range of 0 to 1\n",
    "    : x: List of image data.  The image shape is (32, 32, 3)\n",
    "    : return: Numpy array of normalize data\n",
    "    \"\"\"\n",
    "    # TODO: Implement Function\n",
    "    #print(np.amin(x))\n",
    "    return (x - np.amin(x)) / (np.amax(x) - np.amin(x))\n",
    "\n",
    "\n",
    "\"\"\"\n",
    "DON'T MODIFY ANYTHING IN THIS CELL THAT IS BELOW THIS LINE\n",
    "\"\"\"\n",
    "tests.test_normalize(normalize)"
   ]
  },
  {
   "cell_type": "markdown",
   "metadata": {},
   "source": [
    "### One-hot encode\n",
    "Just like the previous code cell, you'll be implementing a function for preprocessing.  This time, you'll implement the `one_hot_encode` function. The input, `x`, are a list of labels.  Implement the function to return the list of labels as One-Hot encoded Numpy array.  The possible values for labels are 0 to 9. The one-hot encoding function should return the same encoding for each value between each call to `one_hot_encode`.  Make sure to save the map of encodings outside the function.\n",
    "\n",
    "**Hint:**\n",
    "\n",
    "Look into LabelBinarizer in the preprocessing module of sklearn."
   ]
  },
  {
   "cell_type": "code",
   "execution_count": 18,
   "metadata": {},
   "outputs": [
    {
     "name": "stdout",
     "output_type": "stream",
     "text": [
      "Tests Passed\n"
     ]
    }
   ],
   "source": [
    "def one_hot_encode(x, n=10):\n",
    "    \"\"\"\n",
    "    One hot encode a list of sample labels. Return a one-hot encoded vector for each label.\n",
    "    : x: List of sample Labels\n",
    "    : return: Numpy array of one-hot encoded labels\n",
    "    \"\"\"\n",
    "    # TODO: Implement Function\n",
    "    from sklearn.preprocessing import OneHotEncoder\n",
    "    enc = OneHotEncoder(n_values=n)\n",
    "    \n",
    "    return enc.fit_transform(np.array(x).reshape(-1, 1)).toarray()\n",
    "\n",
    "\n",
    "\"\"\"\n",
    "DON'T MODIFY ANYTHING IN THIS CELL THAT IS BELOW THIS LINE\n",
    "\"\"\"\n",
    "tests.test_one_hot_encode(one_hot_encode)"
   ]
  },
  {
   "cell_type": "markdown",
   "metadata": {},
   "source": [
    "### Randomize Data\n",
    "As you saw from exploring the data above, the order of the samples are randomized.  It doesn't hurt to randomize it again, but you don't need to for this dataset."
   ]
  },
  {
   "cell_type": "markdown",
   "metadata": {},
   "source": [
    "## Preprocess all the data and save it\n",
    "Running the code cell below will preprocess all the CIFAR-10 data and save it to file. The code below also uses 10% of the training data for validation."
   ]
  },
  {
   "cell_type": "code",
   "execution_count": 19,
   "metadata": {
    "collapsed": true
   },
   "outputs": [],
   "source": [
    "\"\"\"\n",
    "DON'T MODIFY ANYTHING IN THIS CELL\n",
    "\"\"\"\n",
    "# Preprocess Training, Validation, and Testing Data\n",
    "helper.preprocess_and_save_data(cifar10_dataset_folder_path, normalize, one_hot_encode)"
   ]
  },
  {
   "cell_type": "markdown",
   "metadata": {},
   "source": [
    "# Check Point\n",
    "This is your first checkpoint.  If you ever decide to come back to this notebook or have to restart the notebook, you can start from here.  The preprocessed data has been saved to disk."
   ]
  },
  {
   "cell_type": "code",
   "execution_count": 1,
   "metadata": {
    "collapsed": true
   },
   "outputs": [],
   "source": [
    "\"\"\"\n",
    "DON'T MODIFY ANYTHING IN THIS CELL\n",
    "\"\"\"\n",
    "import pickle\n",
    "import problem_unittests as tests\n",
    "import helper\n",
    "\n",
    "# Load the Preprocessed Validation data\n",
    "valid_features, valid_labels = pickle.load(open('preprocess_validation.p', mode='rb'))"
   ]
  },
  {
   "cell_type": "markdown",
   "metadata": {},
   "source": [
    "## Build the network\n",
    "For the neural network, you'll build each layer into a function.  Most of the code you've seen has been outside of functions. To test your code more thoroughly, we require that you put each layer in a function.  This allows us to give you better feedback and test for simple mistakes using our unittests before you submit your project.\n",
    "\n",
    ">**Note:** If you're finding it hard to dedicate enough time for this course each week, we've provided a small shortcut to this part of the project. In the next couple of problems, you'll have the option to use classes from the [TensorFlow Layers](https://www.tensorflow.org/api_docs/python/tf/layers) or [TensorFlow Layers (contrib)](https://www.tensorflow.org/api_guides/python/contrib.layers) packages to build each layer, except the layers you build in the \"Convolutional and Max Pooling Layer\" section.  TF Layers is similar to Keras's and TFLearn's abstraction to layers, so it's easy to pickup.\n",
    "\n",
    ">However, if you would like to get the most out of this course, try to solve all the problems _without_ using anything from the TF Layers packages. You **can** still use classes from other packages that happen to have the same name as ones you find in TF Layers! For example, instead of using the TF Layers version of the `conv2d` class, [tf.layers.conv2d](https://www.tensorflow.org/api_docs/python/tf/layers/conv2d), you would want to use the TF Neural Network version of `conv2d`, [tf.nn.conv2d](https://www.tensorflow.org/api_docs/python/tf/nn/conv2d). \n",
    "\n",
    "Let's begin!\n",
    "\n",
    "### Input\n",
    "The neural network needs to read the image data, one-hot encoded labels, and dropout keep probability. Implement the following functions\n",
    "* Implement `neural_net_image_input`\n",
    " * Return a [TF Placeholder](https://www.tensorflow.org/api_docs/python/tf/placeholder)\n",
    " * Set the shape using `image_shape` with batch size set to `None`.\n",
    " * Name the TensorFlow placeholder \"x\" using the TensorFlow `name` parameter in the [TF Placeholder](https://www.tensorflow.org/api_docs/python/tf/placeholder).\n",
    "* Implement `neural_net_label_input`\n",
    " * Return a [TF Placeholder](https://www.tensorflow.org/api_docs/python/tf/placeholder)\n",
    " * Set the shape using `n_classes` with batch size set to `None`.\n",
    " * Name the TensorFlow placeholder \"y\" using the TensorFlow `name` parameter in the [TF Placeholder](https://www.tensorflow.org/api_docs/python/tf/placeholder).\n",
    "* Implement `neural_net_keep_prob_input`\n",
    " * Return a [TF Placeholder](https://www.tensorflow.org/api_docs/python/tf/placeholder) for dropout keep probability.\n",
    " * Name the TensorFlow placeholder \"keep_prob\" using the TensorFlow `name` parameter in the [TF Placeholder](https://www.tensorflow.org/api_docs/python/tf/placeholder).\n",
    "\n",
    "These names will be used at the end of the project to load your saved model.\n",
    "\n",
    "Note: `None` for shapes in TensorFlow allow for a dynamic size."
   ]
  },
  {
   "cell_type": "code",
   "execution_count": 2,
   "metadata": {},
   "outputs": [
    {
     "name": "stdout",
     "output_type": "stream",
     "text": [
      "Image Input Tests Passed.\n",
      "Label Input Tests Passed.\n",
      "Keep Prob Tests Passed.\n"
     ]
    }
   ],
   "source": [
    "import tensorflow as tf\n",
    "\n",
    "def neural_net_image_input(image_shape):\n",
    "    \"\"\"\n",
    "    Return a Tensor for a batch of image input\n",
    "    : image_shape: Shape of the images\n",
    "    : return: Tensor for image input.\n",
    "    \"\"\"\n",
    "    # TODO: Implement Function\n",
    "    return tf.placeholder(\n",
    "        tf.float32,\n",
    "        [None, image_shape[0], image_shape[1], image_shape[2]],\n",
    "        name='x'\n",
    "    )\n",
    "\n",
    "\n",
    "def neural_net_label_input(n_classes):\n",
    "    \"\"\"\n",
    "    Return a Tensor for a batch of label input\n",
    "    : n_classes: Number of classes\n",
    "    : return: Tensor for label input.\n",
    "    \"\"\"\n",
    "    # TODO: Implement Function\n",
    "    return tf.placeholder(\n",
    "        tf.float32,\n",
    "        [None, n_classes],\n",
    "        name='y'\n",
    "    )\n",
    "\n",
    "\n",
    "def neural_net_keep_prob_input():\n",
    "    \"\"\"\n",
    "    Return a Tensor for keep probability\n",
    "    : return: Tensor for keep probability.\n",
    "    \"\"\"\n",
    "    # TODO: Implement Function\n",
    "    return tf.placeholder(\n",
    "        tf.float32,\n",
    "        name='keep_prob'\n",
    "    )\n",
    "\n",
    "\n",
    "\"\"\"\n",
    "DON'T MODIFY ANYTHING IN THIS CELL THAT IS BELOW THIS LINE\n",
    "\"\"\"\n",
    "tf.reset_default_graph()\n",
    "tests.test_nn_image_inputs(neural_net_image_input)\n",
    "tests.test_nn_label_inputs(neural_net_label_input)\n",
    "tests.test_nn_keep_prob_inputs(neural_net_keep_prob_input)"
   ]
  },
  {
   "cell_type": "markdown",
   "metadata": {},
   "source": [
    "### Convolution and Max Pooling Layer\n",
    "Convolution layers have a lot of success with images. For this code cell, you should implement the function `conv2d_maxpool` to apply convolution then max pooling:\n",
    "* Create the weight and bias using `conv_ksize`, `conv_num_outputs` and the shape of `x_tensor`.\n",
    "* Apply a convolution to `x_tensor` using weight and `conv_strides`.\n",
    " * We recommend you use same padding, but you're welcome to use any padding.\n",
    "* Add bias\n",
    "* Add a nonlinear activation to the convolution.\n",
    "* Apply Max Pooling using `pool_ksize` and `pool_strides`.\n",
    " * We recommend you use same padding, but you're welcome to use any padding.\n",
    "\n",
    "**Note:** You **can't** use [TensorFlow Layers](https://www.tensorflow.org/api_docs/python/tf/layers) or [TensorFlow Layers (contrib)](https://www.tensorflow.org/api_guides/python/contrib.layers) for **this** layer, but you can still use TensorFlow's [Neural Network](https://www.tensorflow.org/api_docs/python/tf/nn) package. You may still use the shortcut option for all the **other** layers.\n",
    "\n",
    "** Hint: **\n",
    "\n",
    "When unpacking values as an argument in Python, look into the [unpacking](https://docs.python.org/3/tutorial/controlflow.html#unpacking-argument-lists) operator. "
   ]
  },
  {
   "cell_type": "code",
   "execution_count": 3,
   "metadata": {},
   "outputs": [
    {
     "name": "stdout",
     "output_type": "stream",
     "text": [
      "Tests Passed\n"
     ]
    }
   ],
   "source": [
    "def conv2d_maxpool(x_tensor, conv_num_outputs, conv_ksize, conv_strides, pool_ksize, pool_strides):\n",
    "    \"\"\"\n",
    "    Apply convolution then max pooling to x_tensor\n",
    "    :param x_tensor: TensorFlow Tensor\n",
    "    :param conv_num_outputs: Number of outputs for the convolutional layer\n",
    "    :param conv_ksize: kernal size 2-D Tuple for the convolutional layer\n",
    "    :param conv_strides: Stride 2-D Tuple for convolution\n",
    "    :param pool_ksize: kernal size 2-D Tuple for pool\n",
    "    :param pool_strides: Stride 2-D Tuple for pool\n",
    "    : return: A tensor that represents convolution and max pooling of x_tensor\n",
    "    \"\"\"\n",
    "    # TODO: Implement Function\n",
    "    weights = tf.Variable(\n",
    "            tf.random_normal(\n",
    "                [\n",
    "                    conv_ksize[0],\n",
    "                    conv_ksize[1],\n",
    "                    x_tensor.get_shape().as_list()[-1], \n",
    "                    conv_num_outputs\n",
    "                ],\n",
    "                stddev=0.1\n",
    "        )\n",
    "    )\n",
    "    bias = tf.Variable(\n",
    "        tf.zeros(conv_num_outputs, dtype=tf.float32)\n",
    "    )\n",
    "    conv = tf.nn.conv2d(\n",
    "        x_tensor, \n",
    "        weights, \n",
    "        strides=[1, conv_strides[0], conv_strides[1], 1], \n",
    "        padding='SAME'\n",
    "    \n",
    "    ) \n",
    "    conv = tf.nn.relu(\n",
    "        tf.nn.bias_add(conv, bias)\n",
    "    )\n",
    "    conv = tf.nn.max_pool(\n",
    "        conv, \n",
    "        ksize=[1, pool_ksize[0], pool_ksize[1], 1], \n",
    "        strides=[1, pool_strides[0], pool_strides[1], 1],\n",
    "        padding='SAME'\n",
    "    )\n",
    "    return conv \n",
    "\n",
    "\n",
    "\"\"\"\n",
    "DON'T MODIFY ANYTHING IN THIS CELL THAT IS BELOW THIS LINE\n",
    "\"\"\"\n",
    "tests.test_con_pool(conv2d_maxpool)"
   ]
  },
  {
   "cell_type": "markdown",
   "metadata": {},
   "source": [
    "### Flatten Layer\n",
    "Implement the `flatten` function to change the dimension of `x_tensor` from a 4-D tensor to a 2-D tensor.  The output should be the shape (*Batch Size*, *Flattened Image Size*). Shortcut option: you can use classes from the [TensorFlow Layers](https://www.tensorflow.org/api_docs/python/tf/layers) or [TensorFlow Layers (contrib)](https://www.tensorflow.org/api_guides/python/contrib.layers) packages for this layer. For more of a challenge, only use other TensorFlow packages."
   ]
  },
  {
   "cell_type": "code",
   "execution_count": 4,
   "metadata": {},
   "outputs": [
    {
     "name": "stdout",
     "output_type": "stream",
     "text": [
      "Tests Passed\n"
     ]
    }
   ],
   "source": [
    "def flatten(x_tensor):\n",
    "    \"\"\"\n",
    "    Flatten x_tensor to (Batch Size, Flattened Image Size)\n",
    "    : x_tensor: A tensor of size (Batch Size, ...), where ... are the image dimensions.\n",
    "    : return: A tensor of size (Batch Size, Flattened Image Size).\n",
    "    \"\"\"\n",
    "    # TODO: Implement Function\n",
    "    return tf.reshape(\n",
    "        x_tensor, \n",
    "        [-1, (x_tensor.shape[1] * x_tensor.shape[2] * x_tensor.shape[3]).value]\n",
    "    )\n",
    "\n",
    "\n",
    "\"\"\"\n",
    "DON'T MODIFY ANYTHING IN THIS CELL THAT IS BELOW THIS LINE\n",
    "\"\"\"\n",
    "tests.test_flatten(flatten)"
   ]
  },
  {
   "cell_type": "markdown",
   "metadata": {},
   "source": [
    "### Fully-Connected Layer\n",
    "Implement the `fully_conn` function to apply a fully connected layer to `x_tensor` with the shape (*Batch Size*, *num_outputs*). Shortcut option: you can use classes from the [TensorFlow Layers](https://www.tensorflow.org/api_docs/python/tf/layers) or [TensorFlow Layers (contrib)](https://www.tensorflow.org/api_guides/python/contrib.layers) packages for this layer. For more of a challenge, only use other TensorFlow packages."
   ]
  },
  {
   "cell_type": "code",
   "execution_count": 5,
   "metadata": {},
   "outputs": [
    {
     "name": "stdout",
     "output_type": "stream",
     "text": [
      "Tests Passed\n"
     ]
    }
   ],
   "source": [
    "def fully_conn(x_tensor, num_outputs):\n",
    "    \"\"\"\n",
    "    Apply a fully connected layer to x_tensor using weight and bias\n",
    "    : x_tensor: A 2-D tensor where the first dimension is batch size.\n",
    "    : num_outputs: The number of output that the new tensor should be.\n",
    "    : return: A 2-D tensor where the second dimension is num_outputs.\n",
    "    \"\"\"\n",
    "    # TODO: Implement Function\n",
    "    weights = tf.Variable(\n",
    "        tf.random_normal(\n",
    "            [x_tensor.shape[1].value, num_outputs], \n",
    "            stddev=0.1\n",
    "        )\n",
    "    )\n",
    "    bias = tf.Variable(tf.zeros([num_outputs]))\n",
    "    fully_connected = tf.nn.relu(\n",
    "        tf.add(tf.matmul(x_tensor, weights), bias)\n",
    "    )\n",
    "    return fully_connected\n",
    "\n",
    "\n",
    "\"\"\"\n",
    "DON'T MODIFY ANYTHING IN THIS CELL THAT IS BELOW THIS LINE\n",
    "\"\"\"\n",
    "tests.test_fully_conn(fully_conn)"
   ]
  },
  {
   "cell_type": "markdown",
   "metadata": {},
   "source": [
    "### Output Layer\n",
    "Implement the `output` function to apply a fully connected layer to `x_tensor` with the shape (*Batch Size*, *num_outputs*). Shortcut option: you can use classes from the [TensorFlow Layers](https://www.tensorflow.org/api_docs/python/tf/layers) or [TensorFlow Layers (contrib)](https://www.tensorflow.org/api_guides/python/contrib.layers) packages for this layer. For more of a challenge, only use other TensorFlow packages.\n",
    "\n",
    "**Note:** Activation, softmax, or cross entropy should **not** be applied to this."
   ]
  },
  {
   "cell_type": "code",
   "execution_count": 6,
   "metadata": {},
   "outputs": [
    {
     "name": "stdout",
     "output_type": "stream",
     "text": [
      "Tests Passed\n"
     ]
    }
   ],
   "source": [
    "def output(x_tensor, num_outputs):\n",
    "    \"\"\"\n",
    "    Apply a output layer to x_tensor using weight and bias\n",
    "    : x_tensor: A 2-D tensor where the first dimension is batch size.\n",
    "    : num_outputs: The number of output that the new tensor should be.\n",
    "    : return: A 2-D tensor where the second dimension is num_outputs.\n",
    "    \"\"\"\n",
    "    \n",
    "    # TODO: Implement Function\n",
    "    weights = tf.Variable(\n",
    "        tf.random_normal(\n",
    "            [x_tensor.shape[1].value, num_outputs], \n",
    "            stddev=0.1\n",
    "        )\n",
    "    )\n",
    "    bias = tf.Variable(tf.zeros([num_outputs]))\n",
    "    return tf.add(tf.matmul(x_tensor, weights), bias)\n",
    "\n",
    "\n",
    "\"\"\"\n",
    "DON'T MODIFY ANYTHING IN THIS CELL THAT IS BELOW THIS LINE\n",
    "\"\"\"\n",
    "tests.test_output(output)"
   ]
  },
  {
   "cell_type": "markdown",
   "metadata": {},
   "source": [
    "### Create Convolutional Model\n",
    "Implement the function `conv_net` to create a convolutional neural network model. The function takes in a batch of images, `x`, and outputs logits.  Use the layers you created above to create this model:\n",
    "\n",
    "* Apply 1, 2, or 3 Convolution and Max Pool layers\n",
    "* Apply a Flatten Layer\n",
    "* Apply 1, 2, or 3 Fully Connected Layers\n",
    "* Apply an Output Layer\n",
    "* Return the output\n",
    "* Apply [TensorFlow's Dropout](https://www.tensorflow.org/api_docs/python/tf/nn/dropout) to one or more layers in the model using `keep_prob`. "
   ]
  },
  {
   "cell_type": "code",
   "execution_count": 7,
   "metadata": {},
   "outputs": [
    {
     "name": "stdout",
     "output_type": "stream",
     "text": [
      "Neural Network Built!\n"
     ]
    }
   ],
   "source": [
    "def conv_net(x, keep_prob):\n",
    "    \"\"\"\n",
    "    Create a convolutional neural network model\n",
    "    : x: Placeholder tensor that holds image data.\n",
    "    : keep_prob: Placeholder tensor that hold dropout keep probability.\n",
    "    : return: Tensor that represents logits\n",
    "    \"\"\"\n",
    "    # TODO: Apply 1, 2, or 3 Convolution and Max Pool layers\n",
    "    #    Play around with different number of outputs, kernel size and stride\n",
    "    # Function Definition from Above:\n",
    "    #    conv2d_maxpool(x_tensor, conv_num_outputs, conv_ksize, conv_strides, pool_ksize, pool_strides)\n",
    "    conv1 = conv2d_maxpool(\n",
    "        x,\n",
    "        conv_num_outputs=64,\n",
    "        conv_ksize=[5,5],\n",
    "        conv_strides=[1,1],\n",
    "        pool_ksize=[2,2],\n",
    "        pool_strides=[2,2]\n",
    "    )\n",
    "    conv2 = conv2d_maxpool(\n",
    "        conv1,\n",
    "        conv_num_outputs=64,\n",
    "        conv_ksize=[5,5],\n",
    "        conv_strides=[1,1],\n",
    "        pool_ksize=[2,2],\n",
    "        pool_strides=[2,2]\n",
    "    )\n",
    "    \n",
    "    \n",
    "\n",
    "    # TODO: Apply a Flatten Layer\n",
    "    # Function Definition from Above:\n",
    "    #   flatten(x_tensor)\n",
    "    conv_f = flatten(conv2)\n",
    "\n",
    "    # TODO: Apply 1, 2, or 3 Fully Connected Layers\n",
    "    #    Play around with different number of outputs\n",
    "    # Function Definition from Above:\n",
    "    #   fully_conn(x_tensor, num_outputs)\n",
    "    \n",
    "    conv_fc1 = tf.nn.dropout(fully_conn(conv_f, 256), keep_prob)\n",
    "    conv_fc2 = tf.nn.dropout(fully_conn(conv_fc1, 128), keep_prob)\n",
    "    \n",
    "    \n",
    "    # TODO: Apply an Output Layer\n",
    "    #    Set this to the number of classes\n",
    "    # Function Definition from Above:\n",
    "    #   output(x_tensor, num_outputs)\n",
    "    conv_out = output(conv_fc2, 10)\n",
    "    \n",
    "    # TODO: return output\n",
    "    return conv_out\n",
    "\n",
    "\n",
    "\"\"\"\n",
    "DON'T MODIFY ANYTHING IN THIS CELL THAT IS BELOW THIS LINE\n",
    "\"\"\"\n",
    "\n",
    "##############################\n",
    "## Build the Neural Network ##\n",
    "##############################\n",
    "\n",
    "# Remove previous weights, bias, inputs, etc..\n",
    "tf.reset_default_graph()\n",
    "\n",
    "# Inputs\n",
    "x = neural_net_image_input((32, 32, 3))\n",
    "y = neural_net_label_input(10)\n",
    "keep_prob = neural_net_keep_prob_input()\n",
    "\n",
    "# Model\n",
    "logits = conv_net(x, keep_prob)\n",
    "\n",
    "# Name logits Tensor, so that is can be loaded from disk after training\n",
    "logits = tf.identity(logits, name='logits')\n",
    "\n",
    "# Loss and Optimizer\n",
    "cost = tf.reduce_mean(tf.nn.softmax_cross_entropy_with_logits(logits=logits, labels=y))\n",
    "optimizer = tf.train.AdamOptimizer().minimize(cost)\n",
    "\n",
    "# Accuracy\n",
    "correct_pred = tf.equal(tf.argmax(logits, 1), tf.argmax(y, 1))\n",
    "accuracy = tf.reduce_mean(tf.cast(correct_pred, tf.float32), name='accuracy')\n",
    "\n",
    "tests.test_conv_net(conv_net)"
   ]
  },
  {
   "cell_type": "markdown",
   "metadata": {},
   "source": [
    "## Train the Neural Network\n",
    "### Single Optimization\n",
    "Implement the function `train_neural_network` to do a single optimization.  The optimization should use `optimizer` to optimize in `session` with a `feed_dict` of the following:\n",
    "* `x` for image input\n",
    "* `y` for labels\n",
    "* `keep_prob` for keep probability for dropout\n",
    "\n",
    "This function will be called for each batch, so `tf.global_variables_initializer()` has already been called.\n",
    "\n",
    "Note: Nothing needs to be returned. This function is only optimizing the neural network."
   ]
  },
  {
   "cell_type": "code",
   "execution_count": 8,
   "metadata": {},
   "outputs": [
    {
     "name": "stdout",
     "output_type": "stream",
     "text": [
      "Tests Passed\n"
     ]
    }
   ],
   "source": [
    "def train_neural_network(session, optimizer, keep_probability, feature_batch, label_batch):\n",
    "    \"\"\"\n",
    "    Optimize the session on a batch of images and labels\n",
    "    : session: Current TensorFlow session\n",
    "    : optimizer: TensorFlow optimizer function\n",
    "    : keep_probability: keep probability\n",
    "    : feature_batch: Batch of Numpy image data\n",
    "    : label_batch: Batch of Numpy label data\n",
    "    \"\"\"\n",
    "    # TODO: Implement Function\n",
    "    session.run(\n",
    "        optimizer, \n",
    "        feed_dict={\n",
    "            x: feature_batch,\n",
    "            y: label_batch,\n",
    "            keep_prob: keep_probability\n",
    "        }\n",
    "    )\n",
    "\n",
    "\n",
    "\"\"\"\n",
    "DON'T MODIFY ANYTHING IN THIS CELL THAT IS BELOW THIS LINE\n",
    "\"\"\"\n",
    "tests.test_train_nn(train_neural_network)"
   ]
  },
  {
   "cell_type": "markdown",
   "metadata": {},
   "source": [
    "### Show Stats\n",
    "Implement the function `print_stats` to print loss and validation accuracy.  Use the global variables `valid_features` and `valid_labels` to calculate validation accuracy.  Use a keep probability of `1.0` to calculate the loss and validation accuracy."
   ]
  },
  {
   "cell_type": "code",
   "execution_count": 9,
   "metadata": {
    "collapsed": true
   },
   "outputs": [],
   "source": [
    "def print_stats(session, feature_batch, label_batch, cost, accuracy):\n",
    "    \"\"\"\n",
    "    Print information about loss and validation accuracy\n",
    "    : session: Current TensorFlow session\n",
    "    : feature_batch: Batch of Numpy image data\n",
    "    : label_batch: Batch of Numpy label data\n",
    "    : cost: TensorFlow cost function\n",
    "    : accuracy: TensorFlow accuracy function\n",
    "    \"\"\"\n",
    "    # TODO: Implement Function\n",
    "    validation_loss = session.run(\n",
    "        cost, \n",
    "        feed_dict={\n",
    "            x:feature_batch, \n",
    "            y:label_batch,\n",
    "            keep_prob:1.0\n",
    "        }\n",
    "    ) \n",
    "    validation_accuracy = session.run(\n",
    "        accuracy, \n",
    "        feed_dict={\n",
    "            x:valid_features, \n",
    "            y:valid_labels, \n",
    "            keep_prob:1.0\n",
    "        }\n",
    "    )\n",
    "    print(\"Validation Loss={} Validation Accuracy={}\".format(validation_loss, validation_accuracy))"
   ]
  },
  {
   "cell_type": "markdown",
   "metadata": {},
   "source": [
    "### Hyperparameters\n",
    "Tune the following parameters:\n",
    "* Set `epochs` to the number of iterations until the network stops learning or start overfitting\n",
    "* Set `batch_size` to the highest number that your machine has memory for.  Most people set them to common sizes of memory:\n",
    " * 64\n",
    " * 128\n",
    " * 256\n",
    " * ...\n",
    "* Set `keep_probability` to the probability of keeping a node using dropout"
   ]
  },
  {
   "cell_type": "code",
   "execution_count": 12,
   "metadata": {
    "collapsed": true
   },
   "outputs": [],
   "source": [
    "# TODO: Tune Parameters\n",
    "epochs = 20\n",
    "batch_size = 256\n",
    "keep_probability = 0.7"
   ]
  },
  {
   "cell_type": "markdown",
   "metadata": {},
   "source": [
    "### Train on a Single CIFAR-10 Batch\n",
    "Instead of training the neural network on all the CIFAR-10 batches of data, let's use a single batch. This should save time while you iterate on the model to get a better accuracy.  Once the final validation accuracy is 50% or greater, run the model on all the data in the next section."
   ]
  },
  {
   "cell_type": "code",
   "execution_count": 13,
   "metadata": {},
   "outputs": [
    {
     "name": "stdout",
     "output_type": "stream",
     "text": [
      "Checking the Training on a Single Batch...\n",
      "Epoch  1, CIFAR-10 Batch 1:  Validation Loss=2.1383090019226074 Validation Accuracy=0.23520000278949738\n",
      "Epoch  2, CIFAR-10 Batch 1:  Validation Loss=1.8317737579345703 Validation Accuracy=0.3431999981403351\n",
      "Epoch  3, CIFAR-10 Batch 1:  Validation Loss=1.603589415550232 Validation Accuracy=0.39480000734329224\n",
      "Epoch  4, CIFAR-10 Batch 1:  Validation Loss=1.4203801155090332 Validation Accuracy=0.43220001459121704\n",
      "Epoch  5, CIFAR-10 Batch 1:  Validation Loss=1.1833515167236328 Validation Accuracy=0.4472000002861023\n",
      "Epoch  6, CIFAR-10 Batch 1:  Validation Loss=1.0478225946426392 Validation Accuracy=0.45019999146461487\n",
      "Epoch  7, CIFAR-10 Batch 1:  Validation Loss=0.8358438611030579 Validation Accuracy=0.49480000138282776\n",
      "Epoch  8, CIFAR-10 Batch 1:  Validation Loss=0.7517408132553101 Validation Accuracy=0.5004000067710876\n",
      "Epoch  9, CIFAR-10 Batch 1:  Validation Loss=0.648888111114502 Validation Accuracy=0.4934000074863434\n",
      "Epoch 10, CIFAR-10 Batch 1:  Validation Loss=0.5423622131347656 Validation Accuracy=0.520799994468689\n",
      "Epoch 11, CIFAR-10 Batch 1:  Validation Loss=0.43055325746536255 Validation Accuracy=0.527400016784668\n",
      "Epoch 12, CIFAR-10 Batch 1:  Validation Loss=0.3540652096271515 Validation Accuracy=0.5249999761581421\n",
      "Epoch 13, CIFAR-10 Batch 1:  Validation Loss=0.3029782772064209 Validation Accuracy=0.5388000011444092\n",
      "Epoch 14, CIFAR-10 Batch 1:  Validation Loss=0.2510765790939331 Validation Accuracy=0.5333999991416931\n",
      "Epoch 15, CIFAR-10 Batch 1:  Validation Loss=0.1840154230594635 Validation Accuracy=0.5491999983787537\n",
      "Epoch 16, CIFAR-10 Batch 1:  Validation Loss=0.15621237456798553 Validation Accuracy=0.5568000078201294\n",
      "Epoch 17, CIFAR-10 Batch 1:  Validation Loss=0.14028318226337433 Validation Accuracy=0.5429999828338623\n",
      "Epoch 18, CIFAR-10 Batch 1:  Validation Loss=0.10796941816806793 Validation Accuracy=0.5594000220298767\n",
      "Epoch 19, CIFAR-10 Batch 1:  Validation Loss=0.07104818522930145 Validation Accuracy=0.5655999779701233\n",
      "Epoch 20, CIFAR-10 Batch 1:  Validation Loss=0.06339879333972931 Validation Accuracy=0.5694000124931335\n"
     ]
    }
   ],
   "source": [
    "\"\"\"\n",
    "DON'T MODIFY ANYTHING IN THIS CELL\n",
    "\"\"\"\n",
    "print('Checking the Training on a Single Batch...')\n",
    "with tf.Session() as sess:\n",
    "    # Initializing the variables\n",
    "    sess.run(tf.global_variables_initializer())\n",
    "    \n",
    "    # Training cycle\n",
    "    for epoch in range(epochs):\n",
    "        batch_i = 1\n",
    "        for batch_features, batch_labels in helper.load_preprocess_training_batch(batch_i, batch_size):\n",
    "            train_neural_network(sess, optimizer, keep_probability, batch_features, batch_labels)\n",
    "        print('Epoch {:>2}, CIFAR-10 Batch {}:  '.format(epoch + 1, batch_i), end='')\n",
    "        print_stats(sess, batch_features, batch_labels, cost, accuracy)"
   ]
  },
  {
   "cell_type": "markdown",
   "metadata": {},
   "source": [
    "### Fully Train the Model\n",
    "Now that you got a good accuracy with a single CIFAR-10 batch, try it with all five batches."
   ]
  },
  {
   "cell_type": "code",
   "execution_count": 14,
   "metadata": {},
   "outputs": [
    {
     "name": "stdout",
     "output_type": "stream",
     "text": [
      "Training...\n",
      "Epoch  1, CIFAR-10 Batch 1:  Validation Loss=2.1383681297302246 Validation Accuracy=0.2313999980688095\n",
      "Epoch  1, CIFAR-10 Batch 2:  Validation Loss=1.8011064529418945 Validation Accuracy=0.34459999203681946\n",
      "Epoch  1, CIFAR-10 Batch 3:  Validation Loss=1.5852622985839844 Validation Accuracy=0.3700000047683716\n",
      "Epoch  1, CIFAR-10 Batch 4:  Validation Loss=1.5707542896270752 Validation Accuracy=0.4106000065803528\n",
      "Epoch  1, CIFAR-10 Batch 5:  Validation Loss=1.6543176174163818 Validation Accuracy=0.4438000023365021\n",
      "Epoch  2, CIFAR-10 Batch 1:  Validation Loss=1.7168865203857422 Validation Accuracy=0.444599986076355\n",
      "Epoch  2, CIFAR-10 Batch 2:  Validation Loss=1.5012621879577637 Validation Accuracy=0.4758000075817108\n",
      "Epoch  2, CIFAR-10 Batch 3:  Validation Loss=1.1728147268295288 Validation Accuracy=0.48539999127388\n",
      "Epoch  2, CIFAR-10 Batch 4:  Validation Loss=1.260003685951233 Validation Accuracy=0.4950000047683716\n",
      "Epoch  2, CIFAR-10 Batch 5:  Validation Loss=1.3137840032577515 Validation Accuracy=0.4814000129699707\n",
      "Epoch  3, CIFAR-10 Batch 1:  Validation Loss=1.4047443866729736 Validation Accuracy=0.5194000005722046\n",
      "Epoch  3, CIFAR-10 Batch 2:  Validation Loss=1.1468899250030518 Validation Accuracy=0.5228000283241272\n",
      "Epoch  3, CIFAR-10 Batch 3:  Validation Loss=0.9560902714729309 Validation Accuracy=0.5220000147819519\n",
      "Epoch  3, CIFAR-10 Batch 4:  Validation Loss=0.961268424987793 Validation Accuracy=0.551800012588501\n",
      "Epoch  3, CIFAR-10 Batch 5:  Validation Loss=0.9942577481269836 Validation Accuracy=0.5491999983787537\n",
      "Epoch  4, CIFAR-10 Batch 1:  Validation Loss=1.1040265560150146 Validation Accuracy=0.569599986076355\n",
      "Epoch  4, CIFAR-10 Batch 2:  Validation Loss=0.9338289499282837 Validation Accuracy=0.5511999726295471\n",
      "Epoch  4, CIFAR-10 Batch 3:  Validation Loss=0.6756480932235718 Validation Accuracy=0.574999988079071\n",
      "Epoch  4, CIFAR-10 Batch 4:  Validation Loss=0.7747380137443542 Validation Accuracy=0.5881999731063843\n",
      "Epoch  4, CIFAR-10 Batch 5:  Validation Loss=0.7523948550224304 Validation Accuracy=0.5781999826431274\n",
      "Epoch  5, CIFAR-10 Batch 1:  Validation Loss=0.8038488626480103 Validation Accuracy=0.6074000000953674\n",
      "Epoch  5, CIFAR-10 Batch 2:  Validation Loss=0.6851311922073364 Validation Accuracy=0.6039999723434448\n",
      "Epoch  5, CIFAR-10 Batch 3:  Validation Loss=0.55238276720047 Validation Accuracy=0.6057999730110168\n",
      "Epoch  5, CIFAR-10 Batch 4:  Validation Loss=0.5927525758743286 Validation Accuracy=0.6057999730110168\n",
      "Epoch  5, CIFAR-10 Batch 5:  Validation Loss=0.6282490491867065 Validation Accuracy=0.6079999804496765\n",
      "Epoch  6, CIFAR-10 Batch 1:  Validation Loss=0.6605113744735718 Validation Accuracy=0.6258000135421753\n",
      "Epoch  6, CIFAR-10 Batch 2:  Validation Loss=0.5100964903831482 Validation Accuracy=0.6373999714851379\n",
      "Epoch  6, CIFAR-10 Batch 3:  Validation Loss=0.4098406732082367 Validation Accuracy=0.6273999810218811\n",
      "Epoch  6, CIFAR-10 Batch 4:  Validation Loss=0.4738590717315674 Validation Accuracy=0.6327999830245972\n",
      "Epoch  6, CIFAR-10 Batch 5:  Validation Loss=0.4436954855918884 Validation Accuracy=0.633400022983551\n",
      "Epoch  7, CIFAR-10 Batch 1:  Validation Loss=0.5072399377822876 Validation Accuracy=0.6345999836921692\n",
      "Epoch  7, CIFAR-10 Batch 2:  Validation Loss=0.39856022596359253 Validation Accuracy=0.6492000222206116\n",
      "Epoch  7, CIFAR-10 Batch 3:  Validation Loss=0.27057918906211853 Validation Accuracy=0.6402000188827515\n",
      "Epoch  7, CIFAR-10 Batch 4:  Validation Loss=0.3144143223762512 Validation Accuracy=0.6320000290870667\n",
      "Epoch  7, CIFAR-10 Batch 5:  Validation Loss=0.3327389657497406 Validation Accuracy=0.6485999822616577\n",
      "Epoch  8, CIFAR-10 Batch 1:  Validation Loss=0.36108651757240295 Validation Accuracy=0.6597999930381775\n",
      "Epoch  8, CIFAR-10 Batch 2:  Validation Loss=0.2139652967453003 Validation Accuracy=0.6632000207901001\n",
      "Epoch  8, CIFAR-10 Batch 3:  Validation Loss=0.21100807189941406 Validation Accuracy=0.659600019454956\n",
      "Epoch  8, CIFAR-10 Batch 4:  Validation Loss=0.22656336426734924 Validation Accuracy=0.6552000045776367\n",
      "Epoch  8, CIFAR-10 Batch 5:  Validation Loss=0.240401029586792 Validation Accuracy=0.6606000065803528\n",
      "Epoch  9, CIFAR-10 Batch 1:  Validation Loss=0.25654998421669006 Validation Accuracy=0.6668000221252441\n",
      "Epoch  9, CIFAR-10 Batch 2:  Validation Loss=0.17771199345588684 Validation Accuracy=0.6651999950408936\n",
      "Epoch  9, CIFAR-10 Batch 3:  Validation Loss=0.15444393455982208 Validation Accuracy=0.6705999970436096\n",
      "Epoch  9, CIFAR-10 Batch 4:  Validation Loss=0.21273811161518097 Validation Accuracy=0.6606000065803528\n",
      "Epoch  9, CIFAR-10 Batch 5:  Validation Loss=0.17487551271915436 Validation Accuracy=0.6704000234603882\n",
      "Epoch 10, CIFAR-10 Batch 1:  Validation Loss=0.21114738285541534 Validation Accuracy=0.6424000263214111\n",
      "Epoch 10, CIFAR-10 Batch 2:  Validation Loss=0.14685752987861633 Validation Accuracy=0.6796000003814697\n",
      "Epoch 10, CIFAR-10 Batch 3:  Validation Loss=0.1294148862361908 Validation Accuracy=0.6607999801635742\n",
      "Epoch 10, CIFAR-10 Batch 4:  Validation Loss=0.14477798342704773 Validation Accuracy=0.6687999963760376\n",
      "Epoch 10, CIFAR-10 Batch 5:  Validation Loss=0.13329452276229858 Validation Accuracy=0.6654000282287598\n",
      "Epoch 11, CIFAR-10 Batch 1:  Validation Loss=0.17702721059322357 Validation Accuracy=0.6736000180244446\n",
      "Epoch 11, CIFAR-10 Batch 2:  Validation Loss=0.10115474462509155 Validation Accuracy=0.6700000166893005\n",
      "Epoch 11, CIFAR-10 Batch 3:  Validation Loss=0.07749159634113312 Validation Accuracy=0.6643999814987183\n",
      "Epoch 11, CIFAR-10 Batch 4:  Validation Loss=0.12722663581371307 Validation Accuracy=0.6669999957084656\n",
      "Epoch 11, CIFAR-10 Batch 5:  Validation Loss=0.10116980224847794 Validation Accuracy=0.6796000003814697\n",
      "Epoch 12, CIFAR-10 Batch 1:  Validation Loss=0.12287510931491852 Validation Accuracy=0.6682000160217285\n",
      "Epoch 12, CIFAR-10 Batch 2:  Validation Loss=0.0877981185913086 Validation Accuracy=0.6732000112533569\n",
      "Epoch 12, CIFAR-10 Batch 3:  Validation Loss=0.0687926784157753 Validation Accuracy=0.6741999983787537\n",
      "Epoch 12, CIFAR-10 Batch 4:  Validation Loss=0.10939280688762665 Validation Accuracy=0.6669999957084656\n",
      "Epoch 12, CIFAR-10 Batch 5:  Validation Loss=0.06949065625667572 Validation Accuracy=0.670799970626831\n",
      "Epoch 13, CIFAR-10 Batch 1:  Validation Loss=0.09527981281280518 Validation Accuracy=0.6836000084877014\n",
      "Epoch 13, CIFAR-10 Batch 2:  Validation Loss=0.06893499195575714 Validation Accuracy=0.6700000166893005\n",
      "Epoch 13, CIFAR-10 Batch 3:  Validation Loss=0.06511513888835907 Validation Accuracy=0.6728000044822693\n",
      "Epoch 13, CIFAR-10 Batch 4:  Validation Loss=0.06929923593997955 Validation Accuracy=0.6769999861717224\n",
      "Epoch 13, CIFAR-10 Batch 5:  Validation Loss=0.05048777908086777 Validation Accuracy=0.6779999732971191\n",
      "Epoch 14, CIFAR-10 Batch 1:  Validation Loss=0.07125310599803925 Validation Accuracy=0.6836000084877014\n",
      "Epoch 14, CIFAR-10 Batch 2:  Validation Loss=0.06573863327503204 Validation Accuracy=0.6754000186920166\n",
      "Epoch 14, CIFAR-10 Batch 3:  Validation Loss=0.03641664236783981 Validation Accuracy=0.6797999739646912\n",
      "Epoch 14, CIFAR-10 Batch 4:  Validation Loss=0.07320486754179001 Validation Accuracy=0.6589999794960022\n",
      "Epoch 14, CIFAR-10 Batch 5:  Validation Loss=0.02680789865553379 Validation Accuracy=0.6859999895095825\n",
      "Epoch 15, CIFAR-10 Batch 1:  Validation Loss=0.06162118911743164 Validation Accuracy=0.6854000091552734\n",
      "Epoch 15, CIFAR-10 Batch 2:  Validation Loss=0.05202073976397514 Validation Accuracy=0.6723999977111816\n",
      "Epoch 15, CIFAR-10 Batch 3:  Validation Loss=0.04234948754310608 Validation Accuracy=0.682200014591217\n",
      "Epoch 15, CIFAR-10 Batch 4:  Validation Loss=0.04616311937570572 Validation Accuracy=0.673799991607666\n",
      "Epoch 15, CIFAR-10 Batch 5:  Validation Loss=0.026022393256425858 Validation Accuracy=0.6823999881744385\n",
      "Epoch 16, CIFAR-10 Batch 1:  Validation Loss=0.0666385143995285 Validation Accuracy=0.6876000165939331\n",
      "Epoch 16, CIFAR-10 Batch 2:  Validation Loss=0.03722672909498215 Validation Accuracy=0.6618000268936157\n",
      "Epoch 16, CIFAR-10 Batch 3:  Validation Loss=0.024471212178468704 Validation Accuracy=0.6917999982833862\n",
      "Epoch 16, CIFAR-10 Batch 4:  Validation Loss=0.03246933966875076 Validation Accuracy=0.682200014591217\n"
     ]
    },
    {
     "name": "stdout",
     "output_type": "stream",
     "text": [
      "Epoch 16, CIFAR-10 Batch 5:  Validation Loss=0.02572452463209629 Validation Accuracy=0.6848000288009644\n",
      "Epoch 17, CIFAR-10 Batch 1:  Validation Loss=0.05826876312494278 Validation Accuracy=0.6886000037193298\n",
      "Epoch 17, CIFAR-10 Batch 2:  Validation Loss=0.023314984515309334 Validation Accuracy=0.6672000288963318\n",
      "Epoch 17, CIFAR-10 Batch 3:  Validation Loss=0.028754234313964844 Validation Accuracy=0.6624000072479248\n",
      "Epoch 17, CIFAR-10 Batch 4:  Validation Loss=0.02616206370294094 Validation Accuracy=0.6836000084877014\n",
      "Epoch 17, CIFAR-10 Batch 5:  Validation Loss=0.026412079110741615 Validation Accuracy=0.673799991607666\n",
      "Epoch 18, CIFAR-10 Batch 1:  Validation Loss=0.04018310829997063 Validation Accuracy=0.6866000294685364\n",
      "Epoch 18, CIFAR-10 Batch 2:  Validation Loss=0.024248743429780006 Validation Accuracy=0.6679999828338623\n",
      "Epoch 18, CIFAR-10 Batch 3:  Validation Loss=0.03542638570070267 Validation Accuracy=0.6668000221252441\n",
      "Epoch 18, CIFAR-10 Batch 4:  Validation Loss=0.021074144169688225 Validation Accuracy=0.6815999746322632\n",
      "Epoch 18, CIFAR-10 Batch 5:  Validation Loss=0.015278282575309277 Validation Accuracy=0.6836000084877014\n",
      "Epoch 19, CIFAR-10 Batch 1:  Validation Loss=0.028690937906503677 Validation Accuracy=0.6895999908447266\n",
      "Epoch 19, CIFAR-10 Batch 2:  Validation Loss=0.010703028179705143 Validation Accuracy=0.6877999901771545\n",
      "Epoch 19, CIFAR-10 Batch 3:  Validation Loss=0.01361200213432312 Validation Accuracy=0.6880000233650208\n",
      "Epoch 19, CIFAR-10 Batch 4:  Validation Loss=0.008250633254647255 Validation Accuracy=0.6841999888420105\n",
      "Epoch 19, CIFAR-10 Batch 5:  Validation Loss=0.00848841667175293 Validation Accuracy=0.6923999786376953\n",
      "Epoch 20, CIFAR-10 Batch 1:  Validation Loss=0.036570653319358826 Validation Accuracy=0.6740000247955322\n",
      "Epoch 20, CIFAR-10 Batch 2:  Validation Loss=0.010528032667934895 Validation Accuracy=0.6725999712944031\n",
      "Epoch 20, CIFAR-10 Batch 3:  Validation Loss=0.01706557348370552 Validation Accuracy=0.6868000030517578\n",
      "Epoch 20, CIFAR-10 Batch 4:  Validation Loss=0.011035685427486897 Validation Accuracy=0.6953999996185303\n",
      "Epoch 20, CIFAR-10 Batch 5:  Validation Loss=0.007334445603191853 Validation Accuracy=0.6862000226974487\n"
     ]
    }
   ],
   "source": [
    "\"\"\"\n",
    "DON'T MODIFY ANYTHING IN THIS CELL\n",
    "\"\"\"\n",
    "save_model_path = './image_classification'\n",
    "\n",
    "print('Training...')\n",
    "with tf.Session() as sess:\n",
    "    # Initializing the variables\n",
    "    sess.run(tf.global_variables_initializer())\n",
    "    \n",
    "    # Training cycle\n",
    "    for epoch in range(epochs):\n",
    "        # Loop over all batches\n",
    "        n_batches = 5\n",
    "        for batch_i in range(1, n_batches + 1):\n",
    "            for batch_features, batch_labels in helper.load_preprocess_training_batch(batch_i, batch_size):\n",
    "                train_neural_network(sess, optimizer, keep_probability, batch_features, batch_labels)\n",
    "            print('Epoch {:>2}, CIFAR-10 Batch {}:  '.format(epoch + 1, batch_i), end='')\n",
    "            print_stats(sess, batch_features, batch_labels, cost, accuracy)\n",
    "            \n",
    "    # Save Model\n",
    "    saver = tf.train.Saver()\n",
    "    save_path = saver.save(sess, save_model_path)"
   ]
  },
  {
   "cell_type": "markdown",
   "metadata": {},
   "source": [
    "# Checkpoint\n",
    "The model has been saved to disk.\n",
    "## Test Model\n",
    "Test your model against the test dataset.  This will be your final accuracy. You should have an accuracy greater than 50%. If you don't, keep tweaking the model architecture and parameters."
   ]
  },
  {
   "cell_type": "code",
   "execution_count": 16,
   "metadata": {},
   "outputs": [
    {
     "name": "stdout",
     "output_type": "stream",
     "text": [
      "INFO:tensorflow:Restoring parameters from ./image_classification\n",
      "Testing Accuracy: 0.6849609375\n",
      "\n"
     ]
    },
    {
     "data": {
      "image/png": "[encoded data removed]",
      "text/plain": [
       "<matplotlib.figure.Figure at 0x7f0aa0424320>"
      ]
     },
     "metadata": {
      "image/png": {
       "height": 319,
       "width": 355
      }
     },
     "output_type": "display_data"
    }
   ],
   "source": [
    "\"\"\"\n",
    "DON'T MODIFY ANYTHING IN THIS CELL\n",
    "\"\"\"\n",
    "%matplotlib inline\n",
    "%config InlineBackend.figure_format = 'retina'\n",
    "\n",
    "import tensorflow as tf\n",
    "import pickle\n",
    "import helper\n",
    "import random\n",
    "\n",
    "# Set batch size if not already set\n",
    "try:\n",
    "    if batch_size:\n",
    "        pass\n",
    "except NameError:\n",
    "    batch_size = 64\n",
    "\n",
    "save_model_path = './image_classification'\n",
    "n_samples = 4\n",
    "top_n_predictions = 3\n",
    "\n",
    "def test_model():\n",
    "    \"\"\"\n",
    "    Test the saved model against the test dataset\n",
    "    \"\"\"\n",
    "\n",
    "    test_features, test_labels = pickle.load(open('preprocess_training.p', mode='rb'))\n",
    "    loaded_graph = tf.Graph()\n",
    "\n",
    "    with tf.Session(graph=loaded_graph) as sess:\n",
    "        # Load model\n",
    "        loader = tf.train.import_meta_graph(save_model_path + '.meta')\n",
    "        loader.restore(sess, save_model_path)\n",
    "\n",
    "        # Get Tensors from loaded model\n",
    "        loaded_x = loaded_graph.get_tensor_by_name('x:0')\n",
    "        loaded_y = loaded_graph.get_tensor_by_name('y:0')\n",
    "        loaded_keep_prob = loaded_graph.get_tensor_by_name('keep_prob:0')\n",
    "        loaded_logits = loaded_graph.get_tensor_by_name('logits:0')\n",
    "        loaded_acc = loaded_graph.get_tensor_by_name('accuracy:0')\n",
    "        \n",
    "        # Get accuracy in batches for memory limitations\n",
    "        test_batch_acc_total = 0\n",
    "        test_batch_count = 0\n",
    "        \n",
    "        for train_feature_batch, train_label_batch in helper.batch_features_labels(test_features, test_labels, batch_size):\n",
    "            test_batch_acc_total += sess.run(\n",
    "                loaded_acc,\n",
    "                feed_dict={loaded_x: train_feature_batch, loaded_y: train_label_batch, loaded_keep_prob: 1.0})\n",
    "            test_batch_count += 1\n",
    "\n",
    "        print('Testing Accuracy: {}\\n'.format(test_batch_acc_total/test_batch_count))\n",
    "\n",
    "        # Print Random Samples\n",
    "        random_test_features, random_test_labels = tuple(zip(*random.sample(list(zip(test_features, test_labels)), n_samples)))\n",
    "        random_test_predictions = sess.run(\n",
    "            tf.nn.top_k(tf.nn.softmax(loaded_logits), top_n_predictions),\n",
    "            feed_dict={loaded_x: random_test_features, loaded_y: random_test_labels, loaded_keep_prob: 1.0})\n",
    "        helper.display_image_predictions(random_test_features, random_test_labels, random_test_predictions)\n",
    "\n",
    "\n",
    "test_model()"
   ]
  },
  {
   "cell_type": "markdown",
   "metadata": {},
   "source": [
    "## Why 50-80% Accuracy?\n",
    "You might be wondering why you can't get an accuracy any higher. First things first, 50% isn't bad for a simple CNN.  Pure guessing would get you 10% accuracy. That's because there are many more techniques that can be applied to your model and we recemmond that once you are done with this project, you explore!\n",
    "\n",
    "## Submitting This Project\n",
    "When submitting this project, make sure to run all the cells before saving the notebook.  Save the notebook file as \"image_classification.ipynb\" and save it as a HTML file under \"File\" -> \"Download as\".  Include the \"helper.py\" and \"problem_unittests.py\" files in your submission."
   ]
  }
 ],
 "metadata": {
  "kernelspec": {
   "display_name": "Python 3",
   "language": "python",
   "name": "python3"
  },
  "language_info": {
   "codemirror_mode": {
    "name": "ipython",
    "version": 3
   },
   "file_extension": ".py",
   "mimetype": "text/x-python",
   "name": "python",
   "nbconvert_exporter": "python",
   "pygments_lexer": "ipython3",
   "version": "3.6.1"
  }
 },
 "nbformat": 4,
 "nbformat_minor": 1
}
